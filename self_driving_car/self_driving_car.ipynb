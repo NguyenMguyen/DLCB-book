{
 "cells": [
  {
   "cell_type": "code",
   "execution_count": 1,
   "metadata": {},
   "outputs": [],
   "source": [
    "import pandas as pd\n",
    "import numpy as np\n",
    "import os\n",
    "import matplotlib.pyplot as plt\n",
    "\n",
    "from sklearn.model_selection import train_test_split\n",
    "\n",
    "from keras.models import Sequential \n",
    "from keras.optimizers import Adam\n",
    "from keras.callbacks import ModelCheckpoint\n",
    "from keras.layers import Lambda, Conv2D, Dropout, Dense, Flatten\n",
    "from keras.regularizers import l2\n",
    "\n",
    "from utils import INPUT_SHAPE, batch_generator"
   ]
  },
  {
   "cell_type": "code",
   "execution_count": 2,
   "metadata": {},
   "outputs": [],
   "source": [
    "# thư mục lưu data\n",
    "data_dir = 'E:/train/'\n",
    "# đọc file driving_log.csv với cột tương ứng\n",
    "data_df = pd.read_csv(os.path.join(os.getcwd(), data_dir, 'driving_log.csv'), names=[\n",
    "                      'center', 'left', 'right', 'steering', 'throttle', 'reverse', 'speed'])\n",
    "\n",
    "# lấy path đến camera giữa, trái , phái\n",
    "X = data_df[['center', 'left', 'right']].values\n",
    "#  lấy góc lái của ô tô\n",
    "y = data_df['steering'].values\n"
   ]
  },
  {
   "cell_type": "code",
   "execution_count": 3,
   "metadata": {},
   "outputs": [
    {
     "data": {
      "image/png": "[encoded data removed]",
      "text/plain": [
       "<Figure size 432x288 with 1 Axes>"
      ]
     },
     "metadata": {
      "needs_background": "light"
     },
     "output_type": "display_data"
    }
   ],
   "source": [
    "# draw histogram\n",
    "plt.hist(y)\n",
    "plt.show()"
   ]
  },
  {
   "cell_type": "markdown",
   "metadata": {},
   "source": [
    "Do quá nhiều dữ liệu ở góc lái 0 tức là oto đi thẳng, nên ta sẽ loại bỏ bớt để model bớt dự đoán góc lái nghiêng về 0"
   ]
  },
  {
   "cell_type": "code",
   "execution_count": 4,
   "metadata": {},
   "outputs": [
    {
     "data": {
      "image/png": "[encoded data removed]",
      "text/plain": [
       "<Figure size 432x288 with 1 Axes>"
      ]
     },
     "metadata": {
      "needs_background": "light"
     },
     "output_type": "display_data"
    }
   ],
   "source": [
    "# loại bỏ và chỉ lấy 1000 dl có góc lái 0\n",
    "pos_zero = np.array(np.where(y==0)).reshape(-1, 1)\n",
    "pos_none_zero = np.array(np.where(y!=0)).reshape(-1, 1)\n",
    "np.random.shuffle(pos_zero)\n",
    "pos_zero = pos_zero[:1000]\n",
    "\n",
    "pos_combined = np.vstack((pos_zero, pos_none_zero))\n",
    "pos_combined = list(pos_combined)\n",
    "\n",
    "y = y[pos_combined].reshape(len(pos_combined))\n",
    "X = X[pos_combined, :].reshape(len(pos_combined), 3)\n",
    "\n",
    "# after process\n",
    "plt.hist(y)\n",
    "plt.show()"
   ]
  },
  {
   "cell_type": "markdown",
   "metadata": {},
   "source": [
    "Góc lái ở 0 nhiều nhất vì phần lớn oto đi thẳng. Histogram lệch bên trái ko quá quan trọng vì ta sẽ flip ảnh"
   ]
  },
  {
   "cell_type": "code",
   "execution_count": 5,
   "metadata": {},
   "outputs": [],
   "source": [
    "# split train, valid set\n",
    "X_train, X_val, y_train, y_val = train_test_split(\n",
    "    X, y, test_size=0.2, random_state=0)\n"
   ]
  },
  {
   "cell_type": "code",
   "execution_count": 6,
   "metadata": {},
   "outputs": [
    {
     "name": "stdout",
     "output_type": "stream",
     "text": [
      "Model: \"sequential\"\n",
      "_________________________________________________________________\n",
      " Layer (type)                Output Shape              Param #   \n",
      "=================================================================\n",
      " lambda (Lambda)             (None, 66, 200, 3)        0         \n",
      "                                                                 \n",
      " conv2d (Conv2D)             (None, 31, 98, 24)        1824      \n",
      "                                                                 \n",
      " conv2d_1 (Conv2D)           (None, 14, 47, 36)        21636     \n",
      "                                                                 \n",
      " conv2d_2 (Conv2D)           (None, 5, 22, 48)         43248     \n",
      "                                                                 \n",
      " conv2d_3 (Conv2D)           (None, 3, 20, 64)         27712     \n",
      "                                                                 \n",
      " conv2d_4 (Conv2D)           (None, 1, 18, 64)         36928     \n",
      "                                                                 \n",
      " dropout (Dropout)           (None, 1, 18, 64)         0         \n",
      "                                                                 \n",
      " flatten (Flatten)           (None, 1152)              0         \n",
      "                                                                 \n",
      " dense (Dense)               (None, 100)               115300    \n",
      "                                                                 \n",
      " dropout_1 (Dropout)         (None, 100)               0         \n",
      "                                                                 \n",
      " dense_1 (Dense)             (None, 50)                5050      \n",
      "                                                                 \n",
      " dense_2 (Dense)             (None, 10)                510       \n",
      "                                                                 \n",
      " dense_3 (Dense)             (None, 1)                 11        \n",
      "                                                                 \n",
      "=================================================================\n",
      "Total params: 252,219\n",
      "Trainable params: 252,219\n",
      "Non-trainable params: 0\n",
      "_________________________________________________________________\n"
     ]
    }
   ],
   "source": [
    "# build model\n",
    "model = Sequential()\n",
    "model.add(Lambda(lambda x: x/127.5 - 1.0, input_shape=INPUT_SHAPE))\n",
    "model.add(Conv2D(24, (5, 5), activation='elu', strides=(2, 2)))\n",
    "model.add(Conv2D(36, (5, 5), activation='elu', strides=(2, 2)))\n",
    "model.add(Conv2D(48, (5, 5), activation='elu', strides=(2, 2)))\n",
    "\n",
    "model.add(Conv2D(64, (3, 3), activation='elu'))\n",
    "model.add(Conv2D(64, (3, 3), activation='elu'))\n",
    "\n",
    "model.add(Dropout(0.5))\n",
    "model.add(Flatten())\n",
    "\n",
    "model.add(Dense(100, activation='elu'))\n",
    "model.add(Dropout(0.5))\n",
    "\n",
    "model.add(Dense(50, activation='elu'))\n",
    "model.add(Dense(10, activation='elu'))\n",
    "model.add(Dense(1))\n",
    "\n",
    "model.summary()"
   ]
  },
  {
   "cell_type": "code",
   "execution_count": 7,
   "metadata": {},
   "outputs": [],
   "source": [
    "nb_epoch = 10\n",
    "samples_per_epoch = 1000\n",
    "batch_size = 32\n",
    "lr = 1e-4\n",
    "\n",
    "# checkpoint lưu model nếu val loss min\n",
    "checkpoint = ModelCheckpoint('models/model-{epoch:03d}.h5',\n",
    "                             monitor='val_loss',\n",
    "                             verbose=1,\n",
    "                             save_best_only=True,\n",
    "                             mode='auto')\n",
    "\n",
    "# use mse for loss func\n",
    "model.compile(loss='mean_squared_error', optimizer=Adam(learning_rate=lr))"
   ]
  },
  {
   "cell_type": "code",
   "execution_count": 8,
   "metadata": {},
   "outputs": [
    {
     "name": "stdout",
     "output_type": "stream",
     "text": [
      "Epoch 1/10\n"
     ]
    },
    {
     "ename": "ValueError",
     "evalue": "in user code:\n\n    File \"c:\\Users\\ADMIN\\AppData\\Local\\Programs\\Python\\Python310\\lib\\site-packages\\keras\\engine\\training.py\", line 1160, in train_function  *\n        return step_function(self, iterator)\n    File \"c:\\Users\\ADMIN\\AppData\\Local\\Programs\\Python\\Python310\\lib\\site-packages\\keras\\engine\\training.py\", line 1146, in step_function  **\n        outputs = model.distribute_strategy.run(run_step, args=(data,))\n    File \"c:\\Users\\ADMIN\\AppData\\Local\\Programs\\Python\\Python310\\lib\\site-packages\\keras\\engine\\training.py\", line 1135, in run_step  **\n        outputs = model.train_step(data)\n    File \"c:\\Users\\ADMIN\\AppData\\Local\\Programs\\Python\\Python310\\lib\\site-packages\\keras\\engine\\training.py\", line 993, in train_step\n        y_pred = self(x, training=True)\n    File \"c:\\Users\\ADMIN\\AppData\\Local\\Programs\\Python\\Python310\\lib\\site-packages\\keras\\utils\\traceback_utils.py\", line 70, in error_handler\n        raise e.with_traceback(filtered_tb) from None\n    File \"c:\\Users\\ADMIN\\AppData\\Local\\Programs\\Python\\Python310\\lib\\site-packages\\keras\\engine\\input_spec.py\", line 216, in assert_input_compatibility\n        raise ValueError(\n\n    ValueError: Layer \"sequential\" expects 1 input(s), but it received 2 input tensors. Inputs received: [<tf.Tensor 'IteratorGetNext:0' shape=(1, 66, 200, 3) dtype=float32>, <tf.Tensor 'IteratorGetNext:1' shape=(1,) dtype=float32>]\n",
     "output_type": "error",
     "traceback": [
      "\u001b[1;31m---------------------------------------------------------------------------\u001b[0m",
      "\u001b[1;31mValueError\u001b[0m                                Traceback (most recent call last)",
      "\u001b[1;32me:\\AIWorkplace\\DLCB\\self_driving_car\\self_driving_car.ipynb Cell 10\u001b[0m in \u001b[0;36m<cell line: 3>\u001b[1;34m()\u001b[0m\n\u001b[0;32m      <a href='vscode-notebook-cell:/e%3A/AIWorkplace/DLCB/self_driving_car/self_driving_car.ipynb#X12sZmlsZQ%3D%3D?line=0'>1</a>\u001b[0m \u001b[39mfrom\u001b[39;00m \u001b[39mutils\u001b[39;00m \u001b[39mimport\u001b[39;00m INPUT_SHAPE, batch_generator\n\u001b[0;32m      <a href='vscode-notebook-cell:/e%3A/AIWorkplace/DLCB/self_driving_car/self_driving_car.ipynb#X12sZmlsZQ%3D%3D?line=1'>2</a>\u001b[0m \u001b[39m# train model\u001b[39;00m\n\u001b[1;32m----> <a href='vscode-notebook-cell:/e%3A/AIWorkplace/DLCB/self_driving_car/self_driving_car.ipynb#X12sZmlsZQ%3D%3D?line=2'>3</a>\u001b[0m H \u001b[39m=\u001b[39m model\u001b[39m.\u001b[39;49mfit(batch_generator(data_dir, X_train, y_train, batch_size, \u001b[39mTrue\u001b[39;49;00m),\n\u001b[0;32m      <a href='vscode-notebook-cell:/e%3A/AIWorkplace/DLCB/self_driving_car/self_driving_car.ipynb#X12sZmlsZQ%3D%3D?line=3'>4</a>\u001b[0m               steps_per_epoch\u001b[39m=\u001b[39;49msamples_per_epoch,\n\u001b[0;32m      <a href='vscode-notebook-cell:/e%3A/AIWorkplace/DLCB/self_driving_car/self_driving_car.ipynb#X12sZmlsZQ%3D%3D?line=4'>5</a>\u001b[0m               epochs\u001b[39m=\u001b[39;49mnb_epoch,\n\u001b[0;32m      <a href='vscode-notebook-cell:/e%3A/AIWorkplace/DLCB/self_driving_car/self_driving_car.ipynb#X12sZmlsZQ%3D%3D?line=5'>6</a>\u001b[0m               max_queue_size\u001b[39m=\u001b[39;49m\u001b[39m1\u001b[39;49m,\n\u001b[0;32m      <a href='vscode-notebook-cell:/e%3A/AIWorkplace/DLCB/self_driving_car/self_driving_car.ipynb#X12sZmlsZQ%3D%3D?line=6'>7</a>\u001b[0m               validation_data\u001b[39m=\u001b[39;49mbatch_generator(\n\u001b[0;32m      <a href='vscode-notebook-cell:/e%3A/AIWorkplace/DLCB/self_driving_car/self_driving_car.ipynb#X12sZmlsZQ%3D%3D?line=7'>8</a>\u001b[0m                   data_dir, X_val, y_val, batch_size, \u001b[39mFalse\u001b[39;49;00m),\n\u001b[0;32m      <a href='vscode-notebook-cell:/e%3A/AIWorkplace/DLCB/self_driving_car/self_driving_car.ipynb#X12sZmlsZQ%3D%3D?line=8'>9</a>\u001b[0m               validation_steps\u001b[39m=\u001b[39;49m\u001b[39mlen\u001b[39;49m(X_val),\n\u001b[0;32m     <a href='vscode-notebook-cell:/e%3A/AIWorkplace/DLCB/self_driving_car/self_driving_car.ipynb#X12sZmlsZQ%3D%3D?line=9'>10</a>\u001b[0m               callbacks\u001b[39m=\u001b[39;49m[checkpoint],\n\u001b[0;32m     <a href='vscode-notebook-cell:/e%3A/AIWorkplace/DLCB/self_driving_car/self_driving_car.ipynb#X12sZmlsZQ%3D%3D?line=10'>11</a>\u001b[0m               verbose\u001b[39m=\u001b[39;49m\u001b[39m1\u001b[39;49m)\n",
      "File \u001b[1;32mc:\\Users\\ADMIN\\AppData\\Local\\Programs\\Python\\Python310\\lib\\site-packages\\keras\\utils\\traceback_utils.py:70\u001b[0m, in \u001b[0;36mfilter_traceback.<locals>.error_handler\u001b[1;34m(*args, **kwargs)\u001b[0m\n\u001b[0;32m     67\u001b[0m     filtered_tb \u001b[39m=\u001b[39m _process_traceback_frames(e\u001b[39m.\u001b[39m__traceback__)\n\u001b[0;32m     68\u001b[0m     \u001b[39m# To get the full stack trace, call:\u001b[39;00m\n\u001b[0;32m     69\u001b[0m     \u001b[39m# `tf.debugging.disable_traceback_filtering()`\u001b[39;00m\n\u001b[1;32m---> 70\u001b[0m     \u001b[39mraise\u001b[39;00m e\u001b[39m.\u001b[39mwith_traceback(filtered_tb) \u001b[39mfrom\u001b[39;00m \u001b[39mNone\u001b[39m\n\u001b[0;32m     71\u001b[0m \u001b[39mfinally\u001b[39;00m:\n\u001b[0;32m     72\u001b[0m     \u001b[39mdel\u001b[39;00m filtered_tb\n",
      "File \u001b[1;32m~\\AppData\\Local\\Temp\\__autograph_generated_fileowz4sl0o.py:15\u001b[0m, in \u001b[0;36mouter_factory.<locals>.inner_factory.<locals>.tf__train_function\u001b[1;34m(iterator)\u001b[0m\n\u001b[0;32m     13\u001b[0m \u001b[39mtry\u001b[39;00m:\n\u001b[0;32m     14\u001b[0m     do_return \u001b[39m=\u001b[39m \u001b[39mTrue\u001b[39;00m\n\u001b[1;32m---> 15\u001b[0m     retval_ \u001b[39m=\u001b[39m ag__\u001b[39m.\u001b[39mconverted_call(ag__\u001b[39m.\u001b[39mld(step_function), (ag__\u001b[39m.\u001b[39mld(\u001b[39mself\u001b[39m), ag__\u001b[39m.\u001b[39mld(iterator)), \u001b[39mNone\u001b[39;00m, fscope)\n\u001b[0;32m     16\u001b[0m \u001b[39mexcept\u001b[39;00m:\n\u001b[0;32m     17\u001b[0m     do_return \u001b[39m=\u001b[39m \u001b[39mFalse\u001b[39;00m\n",
      "\u001b[1;31mValueError\u001b[0m: in user code:\n\n    File \"c:\\Users\\ADMIN\\AppData\\Local\\Programs\\Python\\Python310\\lib\\site-packages\\keras\\engine\\training.py\", line 1160, in train_function  *\n        return step_function(self, iterator)\n    File \"c:\\Users\\ADMIN\\AppData\\Local\\Programs\\Python\\Python310\\lib\\site-packages\\keras\\engine\\training.py\", line 1146, in step_function  **\n        outputs = model.distribute_strategy.run(run_step, args=(data,))\n    File \"c:\\Users\\ADMIN\\AppData\\Local\\Programs\\Python\\Python310\\lib\\site-packages\\keras\\engine\\training.py\", line 1135, in run_step  **\n        outputs = model.train_step(data)\n    File \"c:\\Users\\ADMIN\\AppData\\Local\\Programs\\Python\\Python310\\lib\\site-packages\\keras\\engine\\training.py\", line 993, in train_step\n        y_pred = self(x, training=True)\n    File \"c:\\Users\\ADMIN\\AppData\\Local\\Programs\\Python\\Python310\\lib\\site-packages\\keras\\utils\\traceback_utils.py\", line 70, in error_handler\n        raise e.with_traceback(filtered_tb) from None\n    File \"c:\\Users\\ADMIN\\AppData\\Local\\Programs\\Python\\Python310\\lib\\site-packages\\keras\\engine\\input_spec.py\", line 216, in assert_input_compatibility\n        raise ValueError(\n\n    ValueError: Layer \"sequential\" expects 1 input(s), but it received 2 input tensors. Inputs received: [<tf.Tensor 'IteratorGetNext:0' shape=(1, 66, 200, 3) dtype=float32>, <tf.Tensor 'IteratorGetNext:1' shape=(1,) dtype=float32>]\n"
     ]
    }
   ],
   "source": [
    "from utils import INPUT_SHAPE, batch_generator\n",
    "# train model\n",
    "H = model.fit(batch_generator(data_dir, X_train, y_train, batch_size, True),\n",
    "              steps_per_epoch=samples_per_epoch,\n",
    "              epochs=nb_epoch,\n",
    "              max_queue_size=1,\n",
    "              validation_data=batch_generator(\n",
    "                  data_dir, X_val, y_val, batch_size, False),\n",
    "              validation_steps=len(X_val),\n",
    "              callbacks=[checkpoint],\n",
    "              verbose=1)\n"
   ]
  },
  {
   "cell_type": "code",
   "execution_count": null,
   "metadata": {},
   "outputs": [
    {
     "name": "stdout",
     "output_type": "stream",
     "text": [
      "<class 'tuple'>\n",
      "<class 'tuple'>\n",
      "<class 'tuple'>\n"
     ]
    }
   ],
   "source": [
    "def nextSquare():\n",
    "    i = 1\n",
    "    while True:\n",
    "        yield i*i, i\n",
    "        i += 1\n",
    "\n",
    "k=0\n",
    "for num in nextSquare():\n",
    "    k += 1\n",
    "    if k > 3:\n",
    "        break\n",
    "    print(type(num))\n"
   ]
  },
  {
   "cell_type": "code",
   "execution_count": 9,
   "metadata": {},
   "outputs": [
    {
     "data": {
      "text/plain": [
       "tuple"
      ]
     },
     "execution_count": 9,
     "metadata": {},
     "output_type": "execute_result"
    }
   ],
   "source": [
    "from utils import INPUT_SHAPE, batch_generator, myfunc\n",
    "type(batch_generator(data_dir, X_train, y_train, batch_size, True))"
   ]
  },
  {
   "cell_type": "code",
   "execution_count": 10,
   "metadata": {},
   "outputs": [
    {
     "data": {
      "text/plain": [
       "int"
      ]
     },
     "execution_count": 10,
     "metadata": {},
     "output_type": "execute_result"
    }
   ],
   "source": [
    "type(myfunc(1))"
   ]
  }
 ],
 "metadata": {
  "kernelspec": {
   "display_name": "Python 3.10.4 64-bit",
   "language": "python",
   "name": "python3"
  },
  "language_info": {
   "codemirror_mode": {
    "name": "ipython",
    "version": 3
   },
   "file_extension": ".py",
   "mimetype": "text/x-python",
   "name": "python",
   "nbconvert_exporter": "python",
   "pygments_lexer": "ipython3",
   "version": "3.10.4"
  },
  "orig_nbformat": 4,
  "vscode": {
   "interpreter": {
    "hash": "31671a60cee805c34c73116577b485118ff3a75c458d3004d49632c19702ac60"
   }
  }
 },
 "nbformat": 4,
 "nbformat_minor": 2
}
