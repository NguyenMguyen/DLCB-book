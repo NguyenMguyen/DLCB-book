{
 "cells": [
  {
   "cell_type": "code",
   "execution_count": 62,
   "metadata": {},
   "outputs": [],
   "source": [
    "import numpy as np\n",
    "import matplotlib.pyplot as plt"
   ]
  },
  {
   "cell_type": "code",
   "execution_count": 63,
   "metadata": {},
   "outputs": [],
   "source": [
    "X = np.array([[4.2223],\n",
    "              [-3.9713],\n",
    "              [4.4673],\n",
    "              [-1.9038],\n",
    "              [-2.2165],\n",
    "              [-4.9564],\n",
    "              [2.2877],\n",
    "              [-1.5485],\n",
    "              [-1.6914],\n",
    "              [0.6228],\n",
    "              [1.8679],\n",
    "              [2.0898],\n",
    "              [2.0042],\n",
    "              [-2.4138],\n",
    "              [1.1985],\n",
    "              [-4.2988],\n",
    "              [0.8784],\n",
    "              [3.9534],\n",
    "              [4.9538],\n",
    "              [-1.0472]])\n",
    "Y = np.array([[255.5464],\n",
    "              [-163.8420],\n",
    "              [299.5179],\n",
    "              [-16.3115],\n",
    "              [-26.4654],\n",
    "              [-324.0216],\n",
    "              [49.1635],\n",
    "              [-8.2638],\n",
    "              [-11.1184],\n",
    "              [4.5332],\n",
    "              [30.0069],\n",
    "              [39.2643],\n",
    "              [35.5587],\n",
    "              [-34.8183],\n",
    "              [11.6482],\n",
    "              [-209.1456],\n",
    "              [6.9089],\n",
    "              [212.7225],\n",
    "              [401.3659],\n",
    "              [-1.7155]])\n"
   ]
  },
  {
   "cell_type": "code",
   "execution_count": 64,
   "metadata": {},
   "outputs": [
    {
     "data": {
      "image/png": "[encoded data removed]",
      "text/plain": [
       "<Figure size 432x288 with 1 Axes>"
      ]
     },
     "metadata": {
      "needs_background": "light"
     },
     "output_type": "display_data"
    }
   ],
   "source": [
    "plt.scatter(X, Y)\n",
    "plt.show()"
   ]
  },
  {
   "cell_type": "markdown",
   "metadata": {},
   "source": [
    "Dễ thấy dữ liệu dạng tuyến tính"
   ]
  },
  {
   "cell_type": "markdown",
   "metadata": {},
   "source": [
    "Model có dạng y = ax^3 + bx^2 + cx + d"
   ]
  },
  {
   "cell_type": "code",
   "execution_count": 65,
   "metadata": {},
   "outputs": [],
   "source": [
    "a, b = 0, 1\n",
    "x = a + (X - np.min(X)) * (b-a) / (np.max(X) - np.min(X))\n",
    "\n",
    "y = (Y - np.min(Y)) / (np.max(Y) - np.min(Y))"
   ]
  },
  {
   "cell_type": "code",
   "execution_count": 89,
   "metadata": {},
   "outputs": [
    {
     "name": "stdout",
     "output_type": "stream",
     "text": [
      "[[ 2.74328322 -5.63367826  3.89040361]] [2.36724795e-06]\n"
     ]
    }
   ],
   "source": [
    "X = np.concatenate((x, x**2, x**3), axis=1)\n",
    "from sklearn.linear_model import LinearRegression\n",
    "lrg = LinearRegression()\n",
    "lrg.fit(X, y)\n",
    "print(lrg.coef_, lrg.intercept_)"
   ]
  },
  {
   "cell_type": "code",
   "execution_count": 92,
   "metadata": {},
   "outputs": [],
   "source": [
    "w = np.array([lrg.coef_[0][0], lrg.coef_[0][1],lrg.coef_[0][2], lrg.intercept_[0]])"
   ]
  },
  {
   "cell_type": "code",
   "execution_count": 93,
   "metadata": {},
   "outputs": [
    {
     "data": {
      "text/plain": [
       "array([ 2.74328322e+00, -5.63367826e+00,  3.89040361e+00,  2.36724795e-06])"
      ]
     },
     "execution_count": 93,
     "metadata": {},
     "output_type": "execute_result"
    }
   ],
   "source": [
    "w"
   ]
  },
  {
   "cell_type": "code",
   "execution_count": 95,
   "metadata": {},
   "outputs": [
    {
     "data": {
      "image/png": "[encoded data removed]",
      "text/plain": [
       "<Figure size 432x288 with 1 Axes>"
      ]
     },
     "metadata": {
      "needs_background": "light"
     },
     "output_type": "display_data"
    }
   ],
   "source": [
    "x0_raw = np.linspace(-6, 6, 500, endpoint=True).reshape(-1,1)\n",
    "a, b = 0, 1\n",
    "x0 = a + (x0_raw - np.min(x0_raw)) * (b-a) / (np.max(x0_raw) - np.min(x0_raw))\n",
    "\n",
    "X0 = np.concatenate((x0, x0**2, x0**3, np.ones_like(x0)), axis=1)\n",
    "y0 = X0.dot(w)\n",
    "y0_true = y0 * (np.max(Y) - np.min(Y)) + np.min(Y)\n",
    "plt.tick_params(axis='both', which='major', labelsize=13)\n",
    "plt.plot(x0_raw, y0_true, 'y', linewidth=4)\n",
    "plt.show()"
   ]
  },
  {
   "cell_type": "code",
   "execution_count": null,
   "metadata": {},
   "outputs": [],
   "source": []
  }
 ],
 "metadata": {
  "kernelspec": {
   "display_name": "Python 3.10.4 64-bit",
   "language": "python",
   "name": "python3"
  },
  "language_info": {
   "codemirror_mode": {
    "name": "ipython",
    "version": 3
   },
   "file_extension": ".py",
   "mimetype": "text/x-python",
   "name": "python",
   "nbconvert_exporter": "python",
   "pygments_lexer": "ipython3",
   "version": "3.10.4"
  },
  "orig_nbformat": 4,
  "vscode": {
   "interpreter": {
    "hash": "31671a60cee805c34c73116577b485118ff3a75c458d3004d49632c19702ac60"
   }
  }
 },
 "nbformat": 4,
 "nbformat_minor": 2
}
