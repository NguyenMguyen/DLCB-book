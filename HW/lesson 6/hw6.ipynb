{
 "cells": [
  {
   "cell_type": "markdown",
   "metadata": {},
   "source": [
    "# Bài 1"
   ]
  },
  {
   "cell_type": "code",
   "execution_count": 4,
   "metadata": {},
   "outputs": [],
   "source": [
    "# import libs\n",
    "import numpy as np\n",
    "import matplotlib.pyplot as plt\n",
    "import tensorflow as tf\n",
    "from sklearn.metrics import accuracy_score\n",
    "from sklearn.model_selection import train_test_split\n",
    "from keras.utils import np_utils\n",
    "from keras.models import Model\n",
    "from keras.layers import Activation, Add, Dense, Conv2D, MaxPool2D, AveragePooling2D, BatchNormalization, Input, ZeroPadding2D, AveragePooling2D, Flatten, Dropout\n",
    "from keras.callbacks import EarlyStopping\n",
    "from keras.optimizers import SGD, Adam, RMSprop\n",
    "from sklearn.linear_model import LogisticRegression\n",
    "from sklearn.model_selection import GridSearchCV\n",
    "from sklearn.metrics import classification_report\n",
    "from imutils import paths\n",
    "from keras.applications import vgg16\n",
    "from keras.applications import imagenet_utils\n",
    "from tensorflow.keras.utils import img_to_array, load_img\n",
    "from keras.preprocessing.image import ImageDataGenerator\n",
    "from sklearn.preprocessing import LabelEncoder, LabelBinarizer\n",
    "from keras.models import Model\n",
    "from keras.layers import Input\n",
    "from keras.layers.core import Dense, Dropout, Flatten\n",
    "import random\n",
    "import os"
   ]
  },
  {
   "cell_type": "code",
   "execution_count": 5,
   "metadata": {},
   "outputs": [],
   "source": [
    "# load data\n",
    "(x_train, y_train), (x_test, y_test) = tf.keras.datasets.cifar10.load_data()"
   ]
  },
  {
   "cell_type": "code",
   "execution_count": 6,
   "metadata": {},
   "outputs": [],
   "source": [
    "# parameters\n",
    "NUM_CLASSES = np.unique(y_train).shape[0]\n",
    "BATCH_SIZE = 32\n",
    "EPOCHS = 50\n",
    "COLORS = 3"
   ]
  },
  {
   "cell_type": "code",
   "execution_count": 7,
   "metadata": {},
   "outputs": [
    {
     "name": "stdout",
     "output_type": "stream",
     "text": [
      "Train size: \t 40000\n",
      "Val size: \t 10000\n",
      "Test size: \t 10000\n"
     ]
    }
   ],
   "source": [
    "x_train, x_val, y_train, y_val = train_test_split(x_train, y_train, test_size=10_000)\n",
    "\n",
    "print('Train size: \\t', x_train.shape[0])\n",
    "print('Val size: \\t', x_val.shape[0])\n",
    "print('Test size: \\t', x_test.shape[0])"
   ]
  },
  {
   "cell_type": "code",
   "execution_count": 8,
   "metadata": {},
   "outputs": [
    {
     "name": "stdout",
     "output_type": "stream",
     "text": [
      "[0. 0. 0. 1. 0. 0. 0. 0. 0. 0.]\n"
     ]
    }
   ],
   "source": [
    "# normalize input\n",
    "x_train = x_train / 255.\n",
    "x_test = x_test / 255.\n",
    "x_val = x_val / 255.\n",
    "\n",
    "# One-hot\n",
    "y_test = np_utils.to_categorical(y_test, NUM_CLASSES)\n",
    "y_train = np_utils.to_categorical(y_train, NUM_CLASSES)\n",
    "y_val = np_utils.to_categorical(y_val, NUM_CLASSES)\n",
    "\n",
    "print(y_test[0])"
   ]
  },
  {
   "cell_type": "code",
   "execution_count": 9,
   "metadata": {},
   "outputs": [],
   "source": [
    "# define residual block\n",
    "# X: input\n",
    "# filters: filter size array\n",
    "def residual_block(X, filters, isPooling=False):\n",
    "    # save a copy\n",
    "    X_copy = X\n",
    "\n",
    "    num_layers = len(filters)\n",
    "\n",
    "    stride = (1, 1)\n",
    "\n",
    "    if isPooling:\n",
    "        stride = (2, 2)\n",
    "\n",
    "    # first layers\n",
    "    X = ZeroPadding2D((1, 1))(X)\n",
    "    X = Conv2D(filters[0], (3, 3), padding='valid', strides=stride)(X)\n",
    "    # N * H * W * D\n",
    "    X = BatchNormalization(axis=3)(X)\n",
    "    X = Activation('relu')(X)\n",
    "\n",
    "    # iterate each layer\n",
    "    for i in range(1, num_layers - 1):\n",
    "        X = Conv2D(filters[i], (3, 3), padding='same')(X)\n",
    "        X = BatchNormalization(axis=3)(X)\n",
    "        X = Activation('relu')(X)\n",
    "\n",
    "    # last layer\n",
    "    X = Conv2D(filters[-1], (3, 3), padding='same')(X)\n",
    "    X = BatchNormalization(axis=3)(X)\n",
    "\n",
    "    # resize x_copy if needed\n",
    "    if isPooling:\n",
    "        X_copy = Conv2D(filters[-1], (1, 1),\n",
    "                        strides=stride, padding='same')(X_copy)\n",
    "        X_copy = BatchNormalization(axis=3)(X_copy)\n",
    "\n",
    "    # add x\n",
    "    X = Add()([X, X_copy])\n",
    "    X = Activation('relu')(X)\n",
    "\n",
    "    return X\n"
   ]
  },
  {
   "cell_type": "code",
   "execution_count": 10,
   "metadata": {},
   "outputs": [],
   "source": [
    "# define ResNet model\n",
    "def ResNet(input_shape, num_classes):\n",
    "\n",
    "    # input\n",
    "    X_input = Input(input_shape)\n",
    "\n",
    "    # padding before convolution\n",
    "    X = ZeroPadding2D((3, 3))(X_input)\n",
    "\n",
    "    # first stage\n",
    "    X = Conv2D(64, (3, 3), strides=(2, 2))(X)\n",
    "    X = BatchNormalization(axis=3)(X)\n",
    "    X = Activation('relu')(X)\n",
    "    X = MaxPool2D()(X)\n",
    "\n",
    "    # residual block\n",
    "    X = residual_block(X, [64, 64, 64], False)\n",
    "    X = residual_block(X, [64, 64, 64], False)\n",
    "    X = residual_block(X, [64, 64, 64], False)\n",
    "\n",
    "    X = residual_block(X, [128, 128, 128], True)\n",
    "\n",
    "    X = residual_block(X, [128, 128, 128], False)\n",
    "    X = residual_block(X, [128, 128, 128], False)\n",
    "\n",
    "    # final stage\n",
    "    X = AveragePooling2D()(X)\n",
    "\n",
    "    # Output layer\n",
    "    X = Flatten()(X)\n",
    "\n",
    "    X = Dropout(0.4)(X)\n",
    "    X = Dense(256, activation='relu')(X)\n",
    "    X = Dropout(0.4)(X)\n",
    "    X = Dense(128, activation='relu')(X)\n",
    "    X = Dropout(0.4)(X)\n",
    "    X = Dense(num_classes, activation='softmax')(X)\n",
    "\n",
    "    # Build model\n",
    "    model = Model(inputs=X_input, outputs=X, name='CustomResNet')\n",
    "\n",
    "    return model\n"
   ]
  },
  {
   "cell_type": "code",
   "execution_count": 11,
   "metadata": {},
   "outputs": [
    {
     "data": {
      "text/plain": [
       "(32, 32, 3)"
      ]
     },
     "execution_count": 11,
     "metadata": {},
     "output_type": "execute_result"
    }
   ],
   "source": [
    "# data shape\n",
    "x_train[0].shape"
   ]
  },
  {
   "cell_type": "code",
   "execution_count": 12,
   "metadata": {},
   "outputs": [],
   "source": [
    "model = ResNet(input_shape=(32, 32, 3), num_classes=NUM_CLASSES)\n",
    "model.compile(optimizer=Adam(learning_rate=0.0005),\n",
    "              loss='categorical_crossentropy', metrics=['accuracy'])\n"
   ]
  },
  {
   "cell_type": "code",
   "execution_count": 13,
   "metadata": {},
   "outputs": [
    {
     "name": "stdout",
     "output_type": "stream",
     "text": [
      "Model: \"CustomResNet\"\n",
      "__________________________________________________________________________________________________\n",
      " Layer (type)                   Output Shape         Param #     Connected to                     \n",
      "==================================================================================================\n",
      " input_1 (InputLayer)           [(None, 32, 32, 3)]  0           []                               \n",
      "                                                                                                  \n",
      " zero_padding2d (ZeroPadding2D)  (None, 38, 38, 3)   0           ['input_1[0][0]']                \n",
      "                                                                                                  \n",
      " conv2d (Conv2D)                (None, 18, 18, 64)   1792        ['zero_padding2d[0][0]']         \n",
      "                                                                                                  \n",
      " batch_normalization (BatchNorm  (None, 18, 18, 64)  256         ['conv2d[0][0]']                 \n",
      " alization)                                                                                       \n",
      "                                                                                                  \n",
      " activation (Activation)        (None, 18, 18, 64)   0           ['batch_normalization[0][0]']    \n",
      "                                                                                                  \n",
      " max_pooling2d (MaxPooling2D)   (None, 9, 9, 64)     0           ['activation[0][0]']             \n",
      "                                                                                                  \n",
      " zero_padding2d_1 (ZeroPadding2  (None, 11, 11, 64)  0           ['max_pooling2d[0][0]']          \n",
      " D)                                                                                               \n",
      "                                                                                                  \n",
      " conv2d_1 (Conv2D)              (None, 9, 9, 64)     36928       ['zero_padding2d_1[0][0]']       \n",
      "                                                                                                  \n",
      " batch_normalization_1 (BatchNo  (None, 9, 9, 64)    256         ['conv2d_1[0][0]']               \n",
      " rmalization)                                                                                     \n",
      "                                                                                                  \n",
      " activation_1 (Activation)      (None, 9, 9, 64)     0           ['batch_normalization_1[0][0]']  \n",
      "                                                                                                  \n",
      " conv2d_2 (Conv2D)              (None, 9, 9, 64)     36928       ['activation_1[0][0]']           \n",
      "                                                                                                  \n",
      " batch_normalization_2 (BatchNo  (None, 9, 9, 64)    256         ['conv2d_2[0][0]']               \n",
      " rmalization)                                                                                     \n",
      "                                                                                                  \n",
      " activation_2 (Activation)      (None, 9, 9, 64)     0           ['batch_normalization_2[0][0]']  \n",
      "                                                                                                  \n",
      " conv2d_3 (Conv2D)              (None, 9, 9, 64)     36928       ['activation_2[0][0]']           \n",
      "                                                                                                  \n",
      " batch_normalization_3 (BatchNo  (None, 9, 9, 64)    256         ['conv2d_3[0][0]']               \n",
      " rmalization)                                                                                     \n",
      "                                                                                                  \n",
      " add (Add)                      (None, 9, 9, 64)     0           ['batch_normalization_3[0][0]',  \n",
      "                                                                  'max_pooling2d[0][0]']          \n",
      "                                                                                                  \n",
      " activation_3 (Activation)      (None, 9, 9, 64)     0           ['add[0][0]']                    \n",
      "                                                                                                  \n",
      " zero_padding2d_2 (ZeroPadding2  (None, 11, 11, 64)  0           ['activation_3[0][0]']           \n",
      " D)                                                                                               \n",
      "                                                                                                  \n",
      " conv2d_4 (Conv2D)              (None, 9, 9, 64)     36928       ['zero_padding2d_2[0][0]']       \n",
      "                                                                                                  \n",
      " batch_normalization_4 (BatchNo  (None, 9, 9, 64)    256         ['conv2d_4[0][0]']               \n",
      " rmalization)                                                                                     \n",
      "                                                                                                  \n",
      " activation_4 (Activation)      (None, 9, 9, 64)     0           ['batch_normalization_4[0][0]']  \n",
      "                                                                                                  \n",
      " conv2d_5 (Conv2D)              (None, 9, 9, 64)     36928       ['activation_4[0][0]']           \n",
      "                                                                                                  \n",
      " batch_normalization_5 (BatchNo  (None, 9, 9, 64)    256         ['conv2d_5[0][0]']               \n",
      " rmalization)                                                                                     \n",
      "                                                                                                  \n",
      " activation_5 (Activation)      (None, 9, 9, 64)     0           ['batch_normalization_5[0][0]']  \n",
      "                                                                                                  \n",
      " conv2d_6 (Conv2D)              (None, 9, 9, 64)     36928       ['activation_5[0][0]']           \n",
      "                                                                                                  \n",
      " batch_normalization_6 (BatchNo  (None, 9, 9, 64)    256         ['conv2d_6[0][0]']               \n",
      " rmalization)                                                                                     \n",
      "                                                                                                  \n",
      " add_1 (Add)                    (None, 9, 9, 64)     0           ['batch_normalization_6[0][0]',  \n",
      "                                                                  'activation_3[0][0]']           \n",
      "                                                                                                  \n",
      " activation_6 (Activation)      (None, 9, 9, 64)     0           ['add_1[0][0]']                  \n",
      "                                                                                                  \n",
      " zero_padding2d_3 (ZeroPadding2  (None, 11, 11, 64)  0           ['activation_6[0][0]']           \n",
      " D)                                                                                               \n",
      "                                                                                                  \n",
      " conv2d_7 (Conv2D)              (None, 9, 9, 64)     36928       ['zero_padding2d_3[0][0]']       \n",
      "                                                                                                  \n",
      " batch_normalization_7 (BatchNo  (None, 9, 9, 64)    256         ['conv2d_7[0][0]']               \n",
      " rmalization)                                                                                     \n",
      "                                                                                                  \n",
      " activation_7 (Activation)      (None, 9, 9, 64)     0           ['batch_normalization_7[0][0]']  \n",
      "                                                                                                  \n",
      " conv2d_8 (Conv2D)              (None, 9, 9, 64)     36928       ['activation_7[0][0]']           \n",
      "                                                                                                  \n",
      " batch_normalization_8 (BatchNo  (None, 9, 9, 64)    256         ['conv2d_8[0][0]']               \n",
      " rmalization)                                                                                     \n",
      "                                                                                                  \n",
      " activation_8 (Activation)      (None, 9, 9, 64)     0           ['batch_normalization_8[0][0]']  \n",
      "                                                                                                  \n",
      " conv2d_9 (Conv2D)              (None, 9, 9, 64)     36928       ['activation_8[0][0]']           \n",
      "                                                                                                  \n",
      " batch_normalization_9 (BatchNo  (None, 9, 9, 64)    256         ['conv2d_9[0][0]']               \n",
      " rmalization)                                                                                     \n",
      "                                                                                                  \n",
      " add_2 (Add)                    (None, 9, 9, 64)     0           ['batch_normalization_9[0][0]',  \n",
      "                                                                  'activation_6[0][0]']           \n",
      "                                                                                                  \n",
      " activation_9 (Activation)      (None, 9, 9, 64)     0           ['add_2[0][0]']                  \n",
      "                                                                                                  \n",
      " zero_padding2d_4 (ZeroPadding2  (None, 11, 11, 64)  0           ['activation_9[0][0]']           \n",
      " D)                                                                                               \n",
      "                                                                                                  \n",
      " conv2d_10 (Conv2D)             (None, 5, 5, 128)    73856       ['zero_padding2d_4[0][0]']       \n",
      "                                                                                                  \n",
      " batch_normalization_10 (BatchN  (None, 5, 5, 128)   512         ['conv2d_10[0][0]']              \n",
      " ormalization)                                                                                    \n",
      "                                                                                                  \n",
      " activation_10 (Activation)     (None, 5, 5, 128)    0           ['batch_normalization_10[0][0]'] \n",
      "                                                                                                  \n",
      " conv2d_11 (Conv2D)             (None, 5, 5, 128)    147584      ['activation_10[0][0]']          \n",
      "                                                                                                  \n",
      " batch_normalization_11 (BatchN  (None, 5, 5, 128)   512         ['conv2d_11[0][0]']              \n",
      " ormalization)                                                                                    \n",
      "                                                                                                  \n",
      " activation_11 (Activation)     (None, 5, 5, 128)    0           ['batch_normalization_11[0][0]'] \n",
      "                                                                                                  \n",
      " conv2d_12 (Conv2D)             (None, 5, 5, 128)    147584      ['activation_11[0][0]']          \n",
      "                                                                                                  \n",
      " conv2d_13 (Conv2D)             (None, 5, 5, 128)    8320        ['activation_9[0][0]']           \n",
      "                                                                                                  \n",
      " batch_normalization_12 (BatchN  (None, 5, 5, 128)   512         ['conv2d_12[0][0]']              \n",
      " ormalization)                                                                                    \n",
      "                                                                                                  \n",
      " batch_normalization_13 (BatchN  (None, 5, 5, 128)   512         ['conv2d_13[0][0]']              \n",
      " ormalization)                                                                                    \n",
      "                                                                                                  \n",
      " add_3 (Add)                    (None, 5, 5, 128)    0           ['batch_normalization_12[0][0]', \n",
      "                                                                  'batch_normalization_13[0][0]'] \n",
      "                                                                                                  \n",
      " activation_12 (Activation)     (None, 5, 5, 128)    0           ['add_3[0][0]']                  \n",
      "                                                                                                  \n",
      " zero_padding2d_5 (ZeroPadding2  (None, 7, 7, 128)   0           ['activation_12[0][0]']          \n",
      " D)                                                                                               \n",
      "                                                                                                  \n",
      " conv2d_14 (Conv2D)             (None, 5, 5, 128)    147584      ['zero_padding2d_5[0][0]']       \n",
      "                                                                                                  \n",
      " batch_normalization_14 (BatchN  (None, 5, 5, 128)   512         ['conv2d_14[0][0]']              \n",
      " ormalization)                                                                                    \n",
      "                                                                                                  \n",
      " activation_13 (Activation)     (None, 5, 5, 128)    0           ['batch_normalization_14[0][0]'] \n",
      "                                                                                                  \n",
      " conv2d_15 (Conv2D)             (None, 5, 5, 128)    147584      ['activation_13[0][0]']          \n",
      "                                                                                                  \n",
      " batch_normalization_15 (BatchN  (None, 5, 5, 128)   512         ['conv2d_15[0][0]']              \n",
      " ormalization)                                                                                    \n",
      "                                                                                                  \n",
      " activation_14 (Activation)     (None, 5, 5, 128)    0           ['batch_normalization_15[0][0]'] \n",
      "                                                                                                  \n",
      " conv2d_16 (Conv2D)             (None, 5, 5, 128)    147584      ['activation_14[0][0]']          \n",
      "                                                                                                  \n",
      " batch_normalization_16 (BatchN  (None, 5, 5, 128)   512         ['conv2d_16[0][0]']              \n",
      " ormalization)                                                                                    \n",
      "                                                                                                  \n",
      " add_4 (Add)                    (None, 5, 5, 128)    0           ['batch_normalization_16[0][0]', \n",
      "                                                                  'activation_12[0][0]']          \n",
      "                                                                                                  \n",
      " activation_15 (Activation)     (None, 5, 5, 128)    0           ['add_4[0][0]']                  \n",
      "                                                                                                  \n",
      " zero_padding2d_6 (ZeroPadding2  (None, 7, 7, 128)   0           ['activation_15[0][0]']          \n",
      " D)                                                                                               \n",
      "                                                                                                  \n",
      " conv2d_17 (Conv2D)             (None, 5, 5, 128)    147584      ['zero_padding2d_6[0][0]']       \n",
      "                                                                                                  \n",
      " batch_normalization_17 (BatchN  (None, 5, 5, 128)   512         ['conv2d_17[0][0]']              \n",
      " ormalization)                                                                                    \n",
      "                                                                                                  \n",
      " activation_16 (Activation)     (None, 5, 5, 128)    0           ['batch_normalization_17[0][0]'] \n",
      "                                                                                                  \n",
      " conv2d_18 (Conv2D)             (None, 5, 5, 128)    147584      ['activation_16[0][0]']          \n",
      "                                                                                                  \n",
      " batch_normalization_18 (BatchN  (None, 5, 5, 128)   512         ['conv2d_18[0][0]']              \n",
      " ormalization)                                                                                    \n",
      "                                                                                                  \n",
      " activation_17 (Activation)     (None, 5, 5, 128)    0           ['batch_normalization_18[0][0]'] \n",
      "                                                                                                  \n",
      " conv2d_19 (Conv2D)             (None, 5, 5, 128)    147584      ['activation_17[0][0]']          \n",
      "                                                                                                  \n",
      " batch_normalization_19 (BatchN  (None, 5, 5, 128)   512         ['conv2d_19[0][0]']              \n",
      " ormalization)                                                                                    \n",
      "                                                                                                  \n",
      " add_5 (Add)                    (None, 5, 5, 128)    0           ['batch_normalization_19[0][0]', \n",
      "                                                                  'activation_15[0][0]']          \n",
      "                                                                                                  \n",
      " activation_18 (Activation)     (None, 5, 5, 128)    0           ['add_5[0][0]']                  \n",
      "                                                                                                  \n",
      " average_pooling2d (AveragePool  (None, 2, 2, 128)   0           ['activation_18[0][0]']          \n",
      " ing2D)                                                                                           \n",
      "                                                                                                  \n",
      " flatten (Flatten)              (None, 512)          0           ['average_pooling2d[0][0]']      \n",
      "                                                                                                  \n",
      " dropout (Dropout)              (None, 512)          0           ['flatten[0][0]']                \n",
      "                                                                                                  \n",
      " dense (Dense)                  (None, 256)          131328      ['dropout[0][0]']                \n",
      "                                                                                                  \n",
      " dropout_1 (Dropout)            (None, 256)          0           ['dense[0][0]']                  \n",
      "                                                                                                  \n",
      " dense_1 (Dense)                (None, 128)          32896       ['dropout_1[0][0]']              \n",
      "                                                                                                  \n",
      " dropout_2 (Dropout)            (None, 128)          0           ['dense_1[0][0]']                \n",
      "                                                                                                  \n",
      " dense_2 (Dense)                (None, 10)           1290        ['dropout_2[0][0]']              \n",
      "                                                                                                  \n",
      "==================================================================================================\n",
      "Total params: 1,770,186\n",
      "Trainable params: 1,766,346\n",
      "Non-trainable params: 3,840\n",
      "__________________________________________________________________________________________________\n"
     ]
    }
   ],
   "source": [
    "model.summary()"
   ]
  },
  {
   "cell_type": "code",
   "execution_count": 14,
   "metadata": {},
   "outputs": [
    {
     "name": "stdout",
     "output_type": "stream",
     "text": [
      "Epoch 16: early stopping\n"
     ]
    }
   ],
   "source": [
    "es = EarlyStopping(monitor='val_loss', mode='min', verbose=1, patience=3)\n",
    "H = model.fit(x_train, y_train, batch_size=BATCH_SIZE, epochs=EPOCHS,\n",
    "              validation_data=(x_val, y_val), verbose=0, callbacks=[es])\n"
   ]
  },
  {
   "cell_type": "code",
   "execution_count": 15,
   "metadata": {},
   "outputs": [
    {
     "data": {
      "image/png": "[encoded data removed]",
      "text/plain": [
       "<Figure size 432x288 with 1 Axes>"
      ]
     },
     "metadata": {
      "needs_background": "light"
     },
     "output_type": "display_data"
    }
   ],
   "source": [
    "# Loss\n",
    "plt.plot(H.history['loss'], 'r-')\n",
    "plt.plot(H.history['val_loss'], 'b-')\n",
    "plt.title('Loss')\n",
    "plt.xlabel('Epochs')\n",
    "plt.ylabel('Loss')\n",
    "plt.legend(['Train loss', 'Val loss'])\n",
    "plt.show()\n"
   ]
  },
  {
   "cell_type": "code",
   "execution_count": 16,
   "metadata": {},
   "outputs": [
    {
     "data": {
      "image/png": "[encoded data removed]",
      "text/plain": [
       "<Figure size 432x288 with 1 Axes>"
      ]
     },
     "metadata": {
      "needs_background": "light"
     },
     "output_type": "display_data"
    }
   ],
   "source": [
    "# Accuracy\n",
    "plt.plot(H.history['accuracy'], 'r-')\n",
    "plt.plot(H.history['val_accuracy'], 'b-')\n",
    "plt.title('Accuracy')\n",
    "plt.xlabel('Epochs')\n",
    "plt.ylabel('Accuracy')\n",
    "plt.legend(['Train accuracy', 'Val accuracy'])\n",
    "plt.show()"
   ]
  },
  {
   "cell_type": "markdown",
   "metadata": {},
   "source": [
    "# Bài 2"
   ]
  },
  {
   "cell_type": "code",
   "execution_count": 17,
   "metadata": {},
   "outputs": [],
   "source": [
    "X = np.array([3,3,0,-4]).reshape(2,2)\n",
    "w0 = np.array([-2,-2]).reshape(-1, 1)"
   ]
  },
  {
   "cell_type": "code",
   "execution_count": 19,
   "metadata": {},
   "outputs": [
    {
     "data": {
      "text/plain": [
       "array([[-12],\n",
       "       [  8]])"
      ]
     },
     "execution_count": 19,
     "metadata": {},
     "output_type": "execute_result"
    }
   ],
   "source": [
    "X.dot(w0)"
   ]
  },
  {
   "cell_type": "code",
   "execution_count": 20,
   "metadata": {},
   "outputs": [],
   "source": [
    "def sigmoid(Z):\n",
    "    return 1 / (1 + np.exp(-Z))"
   ]
  },
  {
   "cell_type": "code",
   "execution_count": 23,
   "metadata": {},
   "outputs": [
    {
     "data": {
      "text/plain": [
       "array([[6.1441746e-06],\n",
       "       [9.9966465e-01]])"
      ]
     },
     "execution_count": 23,
     "metadata": {},
     "output_type": "execute_result"
    }
   ],
   "source": [
    "sigmoid(X.dot(w0))"
   ]
  },
  {
   "cell_type": "code",
   "execution_count": 27,
   "metadata": {},
   "outputs": [],
   "source": [
    "X = X.T"
   ]
  },
  {
   "cell_type": "code",
   "execution_count": 28,
   "metadata": {},
   "outputs": [
    {
     "data": {
      "text/plain": [
       "array([[ 3,  3],\n",
       "       [ 0, -4]])"
      ]
     },
     "execution_count": 28,
     "metadata": {},
     "output_type": "execute_result"
    }
   ],
   "source": [
    "X"
   ]
  },
  {
   "cell_type": "code",
   "execution_count": 31,
   "metadata": {},
   "outputs": [
    {
     "data": {
      "text/plain": [
       "array([[1.23394576e-04],\n",
       "       [9.91837429e-01]])"
      ]
     },
     "execution_count": 31,
     "metadata": {},
     "output_type": "execute_result"
    }
   ],
   "source": [
    "sigmoid(X.dot(np.array([-1.8, -1.2]).reshape(-1, 1)))"
   ]
  },
  {
   "cell_type": "code",
   "execution_count": 36,
   "metadata": {},
   "outputs": [],
   "source": [
    "a = np.array([17, 13, 17, 10]).reshape(1, 4)\n",
    "b = np.array([[3, 0, 2],\n",
    "              [1, 3, 0],\n",
    "              [1, 1, 1],\n",
    "              [0, 1, 4]]).reshape(4, 3)\n"
   ]
  },
  {
   "cell_type": "code",
   "execution_count": 37,
   "metadata": {},
   "outputs": [
    {
     "data": {
      "text/plain": [
       "array([[81, 66, 91]])"
      ]
     },
     "execution_count": 37,
     "metadata": {},
     "output_type": "execute_result"
    }
   ],
   "source": [
    "a.dot(b)"
   ]
  },
  {
   "cell_type": "code",
   "execution_count": 38,
   "metadata": {},
   "outputs": [],
   "source": [
    "def softmax(Z):\n",
    "    e_Z = np.exp(Z)\n",
    "    A = e_Z / e_Z.sum(axis = 1, keepdims= True)\n",
    "    return A"
   ]
  },
  {
   "cell_type": "code",
   "execution_count": 39,
   "metadata": {},
   "outputs": [
    {
     "data": {
      "text/plain": [
       "array([[2.26032430e-06, 3.77512601e-11, 9.99997740e-01]])"
      ]
     },
     "execution_count": 39,
     "metadata": {},
     "output_type": "execute_result"
    }
   ],
   "source": [
    "softmax(np.array([81, 70, 94]).reshape(-1, 3))"
   ]
  },
  {
   "cell_type": "code",
   "execution_count": 40,
   "metadata": {},
   "outputs": [],
   "source": [
    "from keras.models import Sequential\n"
   ]
  },
  {
   "cell_type": "code",
   "execution_count": 42,
   "metadata": {},
   "outputs": [
    {
     "name": "stdout",
     "output_type": "stream",
     "text": [
      "Model: \"sequential_1\"\n",
      "_________________________________________________________________\n",
      " Layer (type)                Output Shape              Param #   \n",
      "=================================================================\n",
      " conv2d_22 (Conv2D)          (None, 126, 126, 64)      4864      \n",
      "                                                                 \n",
      " conv2d_23 (Conv2D)          (None, 122, 122, 2)       3202      \n",
      "                                                                 \n",
      " flatten_2 (Flatten)         (None, 29768)             0         \n",
      "                                                                 \n",
      "=================================================================\n",
      "Total params: 8,066\n",
      "Trainable params: 8,066\n",
      "Non-trainable params: 0\n",
      "_________________________________________________________________\n"
     ]
    }
   ],
   "source": [
    "model = Sequential()\n",
    "\n",
    "model.add(Conv2D(64, (5, 5), strides=2, padding='valid',\n",
    "          activation='relu', input_shape=(256, 256, 3)))\n",
    "model.add(Conv2D(2, (5, 5), padding='valid', activation='relu'))\n",
    "\n",
    "model.add(Flatten())\n",
    "model.summary()\n"
   ]
  },
  {
   "cell_type": "code",
   "execution_count": 43,
   "metadata": {},
   "outputs": [],
   "source": [
    "X = np.array([[4.2223],\n",
    "              [-3.9713],\n",
    "              [4.4673],\n",
    "              [-1.9038],\n",
    "              [-2.2165],\n",
    "              [-4.9564],\n",
    "              [2.2877],\n",
    "              [-1.5485],\n",
    "              [-1.6914],\n",
    "              [0.6228],\n",
    "              [1.8679],\n",
    "              [2.0898],\n",
    "              [2.0042],\n",
    "              [-2.4138],\n",
    "              [1.1985],\n",
    "              [-4.2988],\n",
    "              [0.8784],\n",
    "              [3.9534],\n",
    "              [4.9538],\n",
    "              [-1.0472]])\n",
    "Y = np.array([[255.5464],\n",
    "              [-163.8420],\n",
    "              [299.5179],\n",
    "              [-16.3115],\n",
    "              [-26.4654],\n",
    "              [-324.0216],\n",
    "              [49.1635],\n",
    "              [-8.2638],\n",
    "              [-11.1184],\n",
    "              [4.5332],\n",
    "              [30.0069],\n",
    "              [39.2643],\n",
    "              [35.5587],\n",
    "              [-34.8183],\n",
    "              [11.6482],\n",
    "              [-209.1456],\n",
    "              [6.9089],\n",
    "              [212.7225],\n",
    "              [401.3659],\n",
    "              [-1.7155]])\n"
   ]
  },
  {
   "cell_type": "code",
   "execution_count": 44,
   "metadata": {},
   "outputs": [
    {
     "data": {
      "text/plain": [
       "(20, 1)"
      ]
     },
     "execution_count": 44,
     "metadata": {},
     "output_type": "execute_result"
    }
   ],
   "source": [
    "X.shape"
   ]
  },
  {
   "cell_type": "code",
   "execution_count": 45,
   "metadata": {},
   "outputs": [
    {
     "data": {
      "text/plain": [
       "(20, 1)"
      ]
     },
     "execution_count": 45,
     "metadata": {},
     "output_type": "execute_result"
    }
   ],
   "source": [
    "Y.shape"
   ]
  },
  {
   "cell_type": "code",
   "execution_count": null,
   "metadata": {},
   "outputs": [],
   "source": []
  }
 ],
 "metadata": {
  "kernelspec": {
   "display_name": "Python 3.10.4 64-bit",
   "language": "python",
   "name": "python3"
  },
  "language_info": {
   "codemirror_mode": {
    "name": "ipython",
    "version": 3
   },
   "file_extension": ".py",
   "mimetype": "text/x-python",
   "name": "python",
   "nbconvert_exporter": "python",
   "pygments_lexer": "ipython3",
   "version": "3.10.4"
  },
  "orig_nbformat": 4,
  "vscode": {
   "interpreter": {
    "hash": "31671a60cee805c34c73116577b485118ff3a75c458d3004d49632c19702ac60"
   }
  }
 },
 "nbformat": 4,
 "nbformat_minor": 2
}
