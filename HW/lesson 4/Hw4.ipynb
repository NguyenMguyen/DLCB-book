{
 "cells": [
  {
   "cell_type": "markdown",
   "metadata": {},
   "source": [
    "# Bài 1"
   ]
  },
  {
   "cell_type": "markdown",
   "metadata": {},
   "source": [
    "Tại một node thứ $i$ của layer $k$ có bias $b_i^{(k)}$, ta thực hiện hai bước:\n",
    "\n",
    "\n",
    "*   Tính tổng linear: $\\displaystyle z_i^{(k)} = \\sum_{j=1}^{l^{(k-1)}}a_j^{(k-1)}*w_{ji}^{(k)} + b_i^{(k)}$, là tổng tất cả các node layer trước nhân với hệ số $w$ tương ứng rồi cộng với b.\n",
    "*   Áp dụng hàm kích hoạt: $a_i^{(k)} = σ(z_i^{(k)})$, với $\\sigma$ là hàm kích hoạt.\n",
    "\n",
    "Với $l^{(k)}$ là số lượng node của layer thứ $k$"
   ]
  },
  {
   "cell_type": "markdown",
   "metadata": {},
   "source": [
    "Biểu diễn bằng ma trận. <br>\n",
    "Ta có ma trận trọng số của layer thứ k và vector bias của nó:\n",
    "\n",
    "$\\displaystyle \n",
    "W^{(k)} = \n",
    "\\begin{bmatrix}\n",
    "w_{11}^{(k)} && w_{12}^{(k)} && ... && w_{1l^{(k)}}^{(k)} \\\\\n",
    "w_{21}^{(k)} && w_{22}^{(k)} && ... && w_{2l^{(k)}}^{(k)} \\\\\n",
    "... && ... && ... && ... \\\\\n",
    "w_{l^{(k-1)}1}^{(k)} && w_{l^{(k-1)}2}^{(k)} && ... && w_{l^{(k-1)}l^{(k)}}^{(k)} \\\\\n",
    "\\end{bmatrix}\n",
    ",\\quad\n",
    "b^{(k)} = \n",
    "\\begin{bmatrix}\n",
    "b_1^{(k)} \\\\\n",
    "b_2^{(k)} \\\\\n",
    "... \\\\\n",
    "b_{l^{(k)}}^{(k)} \\\\\n",
    "\\end{bmatrix}\n",
    "$\n",
    "\n",
    "Ma trận đầu vào của layer $k$:\n",
    "\n",
    "$\\displaystyle\n",
    "Z^{(k)} = \n",
    "\\begin{bmatrix}\n",
    "z_1^{[1](k)} && z_2^{[1](k)} && ... && z_{l^{(k)}}^{[1](k)} \\\\\n",
    "z_1^{[2](k)} && z_2^{[2](k)} && ... && z_{l^{(k)}}^{[2](k)} \\\\\n",
    "... && ... && ... && ...\\\\\n",
    "z_1^{[N](k)} && z_2^{[N](k)} && ... && z_{l^{(k)}}^{[N](k)} \\\\\n",
    "\\end{bmatrix}\n",
    "$\n",
    "\n",
    "Ma trận đầu ra của layer $k$:\n",
    "\n",
    "$\\displaystyle\n",
    "A^{(k)} =\n",
    "\\begin{bmatrix}\n",
    "a_1^{[1](k)} && a_2^{[1](k)} && ... && a_{l^{(k)}}^{[1](k)} \\\\\n",
    "a_1^{[2](k)} && a_2^{[2](k)} && ... && a_{l^{(k)}}^{[2](k)} \\\\\n",
    "... && ... && ... && ...\\\\\n",
    "a_1^{[N](k)} && a_2^{[N](k)} && ... && a_{l^{(k)}}^{[N](k)} \\\\\n",
    "\\end{bmatrix}\n",
    "$\n",
    "\n",
    "Tại layer $k$, ta thực hiện hai bước:\n",
    "\n",
    "\n",
    "*   Tính ma trận đầu vào: $Z^{(k)} = A^{(k-1)}*W^{(k)} + b^{(k)}$\n",
    "*   Tính đầu ra: $A^{(k)} = \\sigma(Z^{(k)})$\n",
    "\n"
   ]
  },
  {
   "cell_type": "markdown",
   "metadata": {},
   "source": [
    "## Chạy code"
   ]
  },
  {
   "cell_type": "code",
   "execution_count": 1,
   "metadata": {},
   "outputs": [],
   "source": [
    "import numpy as np\n",
    "import matplotlib.pyplot as plt"
   ]
  },
  {
   "cell_type": "code",
   "execution_count": 39,
   "metadata": {},
   "outputs": [],
   "source": [
    "def softmax(Z):\n",
    "    e_Z = np.exp(Z - np.max(Z, axis=1, keepdims=True))\n",
    "    A = e_Z / e_Z.sum(axis=1, keepdims=True)\n",
    "    return A\n",
    "\n",
    "\n",
    "def softmax_loss(X, y, W):\n",
    "    A = softmax(X.dot(W))\n",
    "    id0 = range(X.shape[0])\n",
    "    return -np.mean(np.log(A[id0, y]))\n",
    "\n",
    "\n",
    "def softmax_grad(X, y, W):\n",
    "    A = softmax(X.dot(W))  # shape (N, C)\n",
    "    id0 = range(X.shape[0])\n",
    "    A[id0, y] -= 1  # A - Y, shape (N, C)\n",
    "    return X.T.dot(A) / X.shape[0]  # shape (d, C)\n",
    "\n",
    "\n",
    "def softmax_fit(X, y, W, lr, epochs, batch_size):\n",
    "    N = X.shape[0]\n",
    "    loss_hist = [softmax_loss(X, y, W)]\n",
    "    batches = int(np.ceil(N/batch_size))\n",
    "    W_old = W.copy()\n",
    "\n",
    "    for ep in range(epochs):\n",
    "        mix_ids = np.random.permutation(N)\n",
    "\n",
    "        for i in range(batches):\n",
    "            batch_ids = mix_ids[batch_size*i: min(batch_size*(i+1), N)]\n",
    "            X_batch, y_batch = X[batch_ids], y[batch_ids]\n",
    "            W -= lr*softmax_grad(X_batch, y_batch, W)\n",
    "\n",
    "        loss_hist.append(softmax_loss(X, y, W))\n",
    "        if np.linalg.norm(W - W_old) / W.size < 1e-5:\n",
    "            break\n",
    "        W_old = W.copy()\n",
    "    return W, loss_hist\n"
   ]
  },
  {
   "cell_type": "code",
   "execution_count": 40,
   "metadata": {},
   "outputs": [],
   "source": [
    "C = 3\n",
    "N = 500\n",
    "means = [[2, 2], [8, 3], [3, 6]]\n",
    "cov = [[1, 0], [0, 1]]\n",
    "\n",
    "X0 = np.random.multivariate_normal(means[0], cov, N)\n",
    "X1 = np.random.multivariate_normal(means[1], cov, N)\n",
    "X2 = np.random.multivariate_normal(means[2], cov, N)\n",
    "X = np.concatenate((X0, X1, X2), axis = 0) \n",
    "Xbar = np.concatenate((X, np.ones((X.shape[0], 1))), axis = 1)\n",
    "\n",
    "y = np.asarray([0]*N + [1]*N + [2]*N)"
   ]
  },
  {
   "cell_type": "code",
   "execution_count": 41,
   "metadata": {},
   "outputs": [
    {
     "data": {
      "image/png": "[encoded data removed]",
      "text/plain": [
       "<Figure size 432x288 with 1 Axes>"
      ]
     },
     "metadata": {
      "needs_background": "light"
     },
     "output_type": "display_data"
    }
   ],
   "source": [
    "W_init = np.random.randn(Xbar.shape[1], C)\n",
    "W, loss_hist = softmax_fit(Xbar, y, W_init, batch_size = 10, epoches = 100, lr = 0.05)\n",
    "\n",
    "plt.plot(loss_hist)\n",
    "plt.xlabel('number of iterations', fontsize=13)\n",
    "plt.ylabel('loss', fontsize=13)\n",
    "plt.tick_params(axis='both', which='major', labelsize=13)\n",
    "plt.show()\n"
   ]
  },
  {
   "cell_type": "markdown",
   "metadata": {},
   "source": [
    "# Bài 2"
   ]
  },
  {
   "cell_type": "code",
   "execution_count": 2,
   "metadata": {},
   "outputs": [],
   "source": [
    "import keras\n",
    "from keras.datasets import mnist\n",
    "from keras.models import Sequential\n",
    "from keras.layers import Dense, Dropout, Flatten\n",
    "from keras.optimizers import SGD\n",
    "from keras import backend as K\n",
    "from keras.utils import np_utils\n",
    "import matplotlib.pyplot as plt\n",
    "import tensorflow as tf"
   ]
  },
  {
   "cell_type": "code",
   "execution_count": 13,
   "metadata": {},
   "outputs": [],
   "source": [
    "batch_size = 128  \n",
    "n_classes = 10  \n",
    "epochs = 15\n",
    "\n",
    "(X_train, y_train), (X_test, y_test) = mnist.load_data()"
   ]
  },
  {
   "cell_type": "code",
   "execution_count": 14,
   "metadata": {},
   "outputs": [
    {
     "name": "stdout",
     "output_type": "stream",
     "text": [
      "Train samples: 60000\n",
      "Test samples: 10000\n"
     ]
    }
   ],
   "source": [
    "X_train = X_train.reshape(-1, 784)\n",
    "X_train = X_train.astype('float32')\n",
    "X_test = X_test.reshape(-1, 784)\n",
    "X_test = X_test.astype('float32')\n",
    "\n",
    "# normalize\n",
    "X_train /= 255\n",
    "X_test /= 255\n",
    "print('Train samples:', X_train.shape[0])\n",
    "print('Test samples:', X_test.shape[0])"
   ]
  },
  {
   "cell_type": "code",
   "execution_count": 15,
   "metadata": {},
   "outputs": [
    {
     "name": "stdout",
     "output_type": "stream",
     "text": [
      "5\n",
      "[0. 0. 0. 0. 0. 1. 0. 0. 0. 0.]\n"
     ]
    }
   ],
   "source": [
    "# convert to one-hot encoding (binary class matrices)\n",
    "print(y_train[0])\n",
    "y_train = np_utils.to_categorical(y_train, n_classes)\n",
    "y_test = np_utils.to_categorical(y_test, n_classes)\n",
    "print(y_train[0])"
   ]
  },
  {
   "cell_type": "markdown",
   "metadata": {},
   "source": [
    "## Change learning rate"
   ]
  },
  {
   "cell_type": "code",
   "execution_count": 17,
   "metadata": {},
   "outputs": [
    {
     "data": {
      "image/png": "[encoded data removed]",
      "text/plain": [
       "<Figure size 432x288 with 1 Axes>"
      ]
     },
     "metadata": {
      "needs_background": "light"
     },
     "output_type": "display_data"
    }
   ],
   "source": [
    "learning_rate = [0.001, 0.005, 0.1]\n",
    "colors = ['r', 'g', 'b']\n",
    "for i, lr in enumerate(learning_rate):\n",
    "    model = Sequential()\n",
    "\n",
    "    model.add(Dense(512, activation='relu', input_shape=(784,)))\n",
    "    model.add(Dense(32, activation='relu'))\n",
    "    model.add(Dense(n_classes, activation='softmax'))\n",
    "\n",
    "    model.compile(loss='categorical_crossentropy',\n",
    "                  optimizer=SGD(learning_rate=lr),\n",
    "                  metrics=['accuracy'])\n",
    "\n",
    "    H = model.fit(X_train, y_train,\n",
    "                  batch_size=batch_size,\n",
    "                  epochs=epochs,\n",
    "                  verbose=0,\n",
    "                  validation_data=(X_test, y_test))\n",
    "    plt.plot(H.history['loss'], colors[i])\n",
    "\n",
    "plt.title('Loss with Different Learning rates')\n",
    "plt.legend(learning_rate)\n",
    "plt.tight_layout()\n",
    "plt.xlabel('Number of Epochs')\n",
    "plt.ylabel('Loss')\n",
    "plt.show()\n"
   ]
  },
  {
   "cell_type": "code",
   "execution_count": null,
   "metadata": {},
   "outputs": [],
   "source": []
  }
 ],
 "metadata": {
  "kernelspec": {
   "display_name": "Python 3.10.4 64-bit",
   "language": "python",
   "name": "python3"
  },
  "language_info": {
   "codemirror_mode": {
    "name": "ipython",
    "version": 3
   },
   "file_extension": ".py",
   "mimetype": "text/x-python",
   "name": "python",
   "nbconvert_exporter": "python",
   "pygments_lexer": "ipython3",
   "version": "3.10.4"
  },
  "orig_nbformat": 4,
  "vscode": {
   "interpreter": {
    "hash": "31671a60cee805c34c73116577b485118ff3a75c458d3004d49632c19702ac60"
   }
  }
 },
 "nbformat": 4,
 "nbformat_minor": 2
}
