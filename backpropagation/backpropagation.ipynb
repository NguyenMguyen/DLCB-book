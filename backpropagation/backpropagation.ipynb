{
 "cells": [
  {
   "cell_type": "code",
   "execution_count": 3,
   "metadata": {},
   "outputs": [],
   "source": [
    "import numpy as np"
   ]
  },
  {
   "cell_type": "code",
   "execution_count": 4,
   "metadata": {},
   "outputs": [],
   "source": [
    "import pandas as pd"
   ]
  },
  {
   "cell_type": "code",
   "execution_count": 5,
   "metadata": {},
   "outputs": [],
   "source": [
    "d = pd.read_csv('dataset.csv').values\n",
    "X = d[:, 0:2].reshape(-1, 2)\n",
    "y = d[:, 2].reshape(-1, 1)"
   ]
  },
  {
   "cell_type": "code",
   "execution_count": 11,
   "metadata": {},
   "outputs": [],
   "source": [
    "def sigmoid(X):\n",
    "    return 1/(1+np.exp(-X))\n",
    "\n",
    "\n",
    "def sigmoid_grad(X):\n",
    "    return sigmoid(X) * (1-sigmoid(X))\n",
    "\n",
    "\n",
    "def crossentropy_loss(Yhat, y):\n",
    "    return -np.mean(y*np.log(Yhat) + (1-y)*np.log(1-Yhat))\n",
    "\n",
    "\n",
    "def predict(X, W1, b1, W2, b2):\n",
    "    Z1 = X.dot(W1) + b1\n",
    "    A1 = sigmoid(Z1)\n",
    "    Z2 = A1.dot(W2) + b2\n",
    "    A2 = sigmoid(Z2)\n",
    "    return A2\n",
    "\n",
    "\n",
    "def fit(X, y, W1, b1, W2, b2, eta):\n",
    "    loss_hist = []\n",
    "    N = X.shape[0]\n",
    "    for i in range(20000):\n",
    "        # feedforward\n",
    "        Z1 = X.dot(W1) + b1 # shape N, d1\n",
    "        A1 = sigmoid(Z1) # shape N, d1\n",
    "        Z2 = A1.dot(W2) + b2 # shape N, d2\n",
    "        A2 = sigmoid(Z2) # shape N, d2\n",
    "\n",
    "        if i % 4000 == 0:\n",
    "            loss = crossentropy_loss(A2, y)\n",
    "            print(\"loss:\", loss)\n",
    "            loss_hist.append(loss)\n",
    "            # print(W1)\n",
    "            # print(W2)\n",
    "\n",
    "        # back propagation\n",
    "        # dA = -(y/A2 - (1-y)/(1-A2)) # shape N, d2\n",
    "        E2 = (A2-y)/N # shape N, d2\n",
    "        dW2 = np.dot(A1.T, E2) # shape d1, d2\n",
    "        db2 = np.sum(E2, axis=0) # shape d2\n",
    "        E1 = np.dot(E2, W2.T) * sigmoid_grad(Z1) # shape N, d1\n",
    "        dW1 = np.dot(X.T, E1) # shape d0, d1\n",
    "        db1 = np.sum(E1, axis=0) # shape d1\n",
    "\n",
    "        # gd update\n",
    "        W1 -= eta*dW1\n",
    "        b1 -= eta*db1\n",
    "        W2 -= eta*dW2\n",
    "        b2 -= eta*db2\n",
    "    \n",
    "    return (W1, b1, W2, b2, loss_hist)"
   ]
  },
  {
   "cell_type": "code",
   "execution_count": 12,
   "metadata": {},
   "outputs": [],
   "source": [
    "def init(d0, d1, d2):\n",
    "    W1 = 0.01*np.random.randn(d0, d1)\n",
    "    b1 = np.zeros(d1)\n",
    "    W2 = 0.01*np.random.randn(d1, d2)\n",
    "    b2 = np.zeros(d2)\n",
    "    return (W1, b1, W2, b2)"
   ]
  },
  {
   "cell_type": "code",
   "execution_count": 24,
   "metadata": {},
   "outputs": [],
   "source": [
    "d0 = 2\n",
    "d1 = 1\n",
    "d2 = 1\n",
    "eta = 1\n",
    "(W1, b1, W2, b2) = init(d0, d1, d2)"
   ]
  },
  {
   "cell_type": "code",
   "execution_count": 25,
   "metadata": {},
   "outputs": [
    {
     "name": "stdout",
     "output_type": "stream",
     "text": [
      "loss: 0.6931443056624312\n",
      "loss: 0.0018736487267469125\n",
      "loss: 0.0008352170778195561\n",
      "loss: 0.0005342999975956752\n",
      "loss: 0.0003917817833780053\n"
     ]
    }
   ],
   "source": [
    "(W1, b1, W2, b2, loss_hist) = fit(X, y, W1, b1, W2, b2, eta)"
   ]
  },
  {
   "cell_type": "code",
   "execution_count": 26,
   "metadata": {},
   "outputs": [
    {
     "name": "stdout",
     "output_type": "stream",
     "text": [
      "[[9.99875027e-01]\n",
      " [9.99872464e-01]\n",
      " [9.99873254e-01]\n",
      " [9.99412821e-01]\n",
      " [9.99876087e-01]\n",
      " [9.99088984e-01]\n",
      " [9.99876095e-01]\n",
      " [9.99876024e-01]\n",
      " [9.99834679e-01]\n",
      " [9.99875636e-01]\n",
      " [4.65822922e-04]\n",
      " [2.09713981e-04]\n",
      " [3.84289875e-04]\n",
      " [4.82777147e-04]\n",
      " [3.73364780e-04]\n",
      " [3.84289875e-04]\n",
      " [1.78020022e-04]\n",
      " [1.83979107e-04]\n",
      " [2.38529373e-04]\n",
      " [7.35630890e-04]]\n"
     ]
    }
   ],
   "source": [
    "y_pred = predict(X, W1, b1, W2, b2)\n",
    "print(y_pred)"
   ]
  },
  {
   "cell_type": "code",
   "execution_count": 16,
   "metadata": {},
   "outputs": [],
   "source": [
    "from sklearn.metrics import accuracy_score"
   ]
  },
  {
   "cell_type": "code",
   "execution_count": 27,
   "metadata": {},
   "outputs": [
    {
     "name": "stdout",
     "output_type": "stream",
     "text": [
      "100.0\n"
     ]
    }
   ],
   "source": [
    "print(100*accuracy_score(y, np.round(y_pred)))"
   ]
  },
  {
   "cell_type": "code",
   "execution_count": 28,
   "metadata": {},
   "outputs": [
    {
     "name": "stdout",
     "output_type": "stream",
     "text": [
      "[[1.]\n",
      " [1.]\n",
      " [1.]\n",
      " [1.]\n",
      " [1.]\n",
      " [1.]\n",
      " [1.]\n",
      " [1.]\n",
      " [1.]\n",
      " [1.]\n",
      " [0.]\n",
      " [0.]\n",
      " [0.]\n",
      " [0.]\n",
      " [0.]\n",
      " [0.]\n",
      " [0.]\n",
      " [0.]\n",
      " [0.]\n",
      " [0.]]\n"
     ]
    }
   ],
   "source": [
    "print(np.round(y_pred))"
   ]
  },
  {
   "cell_type": "code",
   "execution_count": null,
   "metadata": {},
   "outputs": [],
   "source": []
  }
 ],
 "metadata": {
  "kernelspec": {
   "display_name": "Python 3.10.4 64-bit",
   "language": "python",
   "name": "python3"
  },
  "language_info": {
   "codemirror_mode": {
    "name": "ipython",
    "version": 3
   },
   "file_extension": ".py",
   "mimetype": "text/x-python",
   "name": "python",
   "nbconvert_exporter": "python",
   "pygments_lexer": "ipython3",
   "version": "3.10.4"
  },
  "orig_nbformat": 4,
  "vscode": {
   "interpreter": {
    "hash": "31671a60cee805c34c73116577b485118ff3a75c458d3004d49632c19702ac60"
   }
  }
 },
 "nbformat": 4,
 "nbformat_minor": 2
}
